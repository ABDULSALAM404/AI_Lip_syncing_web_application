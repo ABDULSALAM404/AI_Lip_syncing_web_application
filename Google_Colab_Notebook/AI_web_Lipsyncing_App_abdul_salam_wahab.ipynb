{
  "cells": [
    {
      "cell_type": "code",
      "source": [
        "# AI Web Lip Syncing Application\n",
        "\n",
        "#Author:** Abdul Salam Wahab\n",
        "#University Email:** bc210200607@vu.edu.pk\n",
        "#GitHub (if any):** https://github.com/AbdulSalamvu/Wav2Lip.git\n",
        "#Institution:** Virtual University of Pakistan\n",
        "#Final Year Project - BSc in Computer Science**"
      ],
      "metadata": {
        "id": "Xz7Nh09haUMN"
      },
      "execution_count": null,
      "outputs": []
    },
    {
      "cell_type": "code",
      "source": [
        "!wget https://bin.equinox.io/c/bNyj1mQVY4c/ngrok-v3-stable-linux-amd64.tgz\n",
        "!tar -xvzf ngrok-v3-stable-linux-amd64.tgz\n",
        "!./ngrok authtoken 2p1yhE3O26S5y6W7jAtCpR6MMdn_5uSiAYobvDwYaFMw1bdYC"
      ],
      "metadata": {
        "id": "GjSKr5d0aedj"
      },
      "execution_count": null,
      "outputs": []
    },
    {
      "cell_type": "code",
      "execution_count": null,
      "metadata": {
        "colab": {
          "base_uri": "https://localhost:8080/"
        },
        "id": "aC2wZCGNSD7Z",
        "outputId": "da48d1cf-878e-4110-8ed4-805ed8780497"
      },
      "outputs": [
        {
          "output_type": "stream",
          "name": "stdout",
          "text": [
            "\n",
            "Done\n"
          ]
        }
      ],
      "source": [
        "!rm -rf /content/sample_data\n",
        "!mkdir /content/sample_data\n",
        "\n",
        "!git clone https://github.com/AbdulSalamvu/Wav2Lip.git\n",
        "\n",
        "#download the pretrained model\n",
        "!wget 'https://iiitaphyd-my.sharepoint.com/personal/radrabha_m_research_iiit_ac_in/_layouts/15/download.aspx?share=EdjI7bZlgApMqsVoEUUXpLsBxqXbn5z8VTmoxp55YNDcIA' -O '/content/Wav2Lip/checkpoints/wav2lip_gan.pth'\n",
        "a = !pip install https://raw.githubusercontent.com/AwaleSajil/ghc/master/ghc-1.0-py3-none-any.whl\n",
        "\n",
        "# !pip uninstall tensorflow tensorflow-gpu\n",
        "!cd Wav2Lip && pip install -r requirements.txt\n",
        "\n",
        "#download pretrained model for face detection\n",
        "!wget \"https://www.adrianbulat.com/downloads/python-fan/s3fd-619a316812.pth\" -O \"/content/Wav2Lip/face_detection/detection/sfd/s3fd.pth\"\n",
        "\n",
        "!pip install -q youtube-dl\n",
        "!pip install ffmpeg-python\n",
        "!pip install librosa==0.9.1\n",
        "\n",
        "from IPython.display import HTML, Audio\n",
        "from google.colab.output import eval_js\n",
        "from base64 import b64decode\n",
        "import numpy as np\n",
        "from scipy.io.wavfile import read as wav_read\n",
        "import io\n",
        "import ffmpeg\n",
        "\n",
        "from IPython.display import clear_output\n",
        "clear_output()\n",
        "print(\"\\nDone\")"
      ]
    },
    {
      "cell_type": "code",
      "execution_count": null,
      "metadata": {
        "id": "wOMmIRmNEAyu"
      },
      "outputs": [],
      "source": [
        "!pip install fastapi nest-asyncio pyngrok uvicorn\n",
        "!pip install -q youtube-dl\n",
        "!pip install ffmpeg-python\n",
        "!pip install librosa==0.9.1\n",
        "!pip install python-multipart"
      ]
    },
    {
      "cell_type": "code",
      "execution_count": null,
      "metadata": {
        "colab": {
          "background_save": true,
          "base_uri": "https://localhost:8080/"
        },
        "id": "1cy6wrQpEgic",
        "outputId": "8879bccc-eb28-4959-cc26-6562ff53f969"
      },
      "outputs": [
        {
          "output_type": "stream",
          "name": "stdout",
          "text": []
        },
        {
          "output_type": "stream",
          "name": "stderr",
          "text": [
            "INFO:     Started server process [2348]\n",
            "INFO:     Waiting for application startup.\n",
            "INFO:     Application startup complete.\n",
            "INFO:     Uvicorn running on http://0.0.0.0:8000 (Press CTRL+C to quit)\n"
          ]
        },
        {
          "output_type": "stream",
          "name": "stdout",
          "text": [
            "Public URL: https://778d-34-19-32-88.ngrok-free.app\n",
            "Received video file: input_video.mp4\n",
            "Received audio file: input_audio.wav\n",
            "Video file content type: video/mp4\n",
            "Audio file content type: audio/wav\n",
            "INFO:     2400:adc1:120:3300:d440:4801:2d37:7015:0 - \"POST /upload HTTP/1.1\" 200 OK\n",
            "INFO:     2400:adc1:120:3300:d440:4801:2d37:7015:0 - \"POST /process?video_filename=/content/sample_data/input_video.mp4&audio_filename=/content/sample_data/input_audio.wav HTTP/1.1\" 200 OK\n",
            "INFO:     2400:adc1:120:3300:d440:4801:2d37:7015:0 - \"OPTIONS /download HTTP/1.1\" 200 OK\n",
            "INFO:     2400:adc1:120:3300:d440:4801:2d37:7015:0 - \"GET /download HTTP/1.1\" 200 OK\n"
          ]
        }
      ],
      "source": [
        "import sys\n",
        "import nest_asyncio\n",
        "from pyngrok import ngrok\n",
        "import uvicorn\n",
        "from fastapi import FastAPI, File, UploadFile, HTTPException\n",
        "from fastapi.middleware.cors import CORSMiddleware\n",
        "from fastapi.responses import FileResponse, JSONResponse\n",
        "import os\n",
        "import subprocess\n",
        "from pathlib import Path\n",
        "import shutil\n",
        "import logging\n",
        "\n",
        "\n",
        "# Initialize FastAPI app\n",
        "app = FastAPI()\n",
        "app.add_middleware(\n",
        "    CORSMiddleware,\n",
        "    allow_origins=['*'],\n",
        "    allow_credentials=True,\n",
        "    allow_methods=['*'],\n",
        "    allow_headers=['*'],\n",
        ")\n",
        "\n",
        "\n",
        "# Directories for input and output\n",
        "BASE_DIR = Path(\"/content/Wav2Lip\")\n",
        "INPUT_DIR = BASE_DIR / \"inputs\"\n",
        "OUTPUT_DIR = BASE_DIR / \"results\"\n",
        "\n",
        "# Ensure directories exist\n",
        "INPUT_DIR.mkdir(parents=True, exist_ok=True)\n",
        "OUTPUT_DIR.mkdir(parents=True, exist_ok=True)\n",
        "\n",
        "# Set directories for storing files\n",
        "UPLOAD_DIR = '/content/sample_data/'\n",
        "if not os.path.exists(UPLOAD_DIR):\n",
        "    os.makedirs(UPLOAD_DIR)\n",
        "\n",
        "# Configure logging for better debugging\n",
        "logging.basicConfig(level=logging.DEBUG)\n",
        "\n",
        "\n",
        "\n",
        "@app.get(\"/test\")\n",
        "def test_api():\n",
        "    return JSONResponse(status_code=200, content={\"message\": \"API is UP !\"})\n",
        "\n",
        "\n",
        "@app.post(\"/upload\")\n",
        "def upload_files(video: UploadFile = File(...), audio: UploadFile = File(...)):\n",
        "    # Debugging: Log the incoming request data\n",
        "    print(f\"Received video file: {video.filename}\")\n",
        "    print(f\"Received audio file: {audio.filename}\")\n",
        "    print(f\"Video file content type: {video.content_type}\")\n",
        "    print(f\"Audio file content type: {audio.content_type}\")\n",
        "\n",
        "    # Define the paths where the files will be saved\n",
        "    video_path = os.path.join(UPLOAD_DIR, video.filename)\n",
        "    audio_path = os.path.join(UPLOAD_DIR, audio.filename)\n",
        "\n",
        "    try:\n",
        "        # Save video file\n",
        "        with open(video_path, \"wb\") as video_file:\n",
        "            shutil.copyfileobj(video.file, video_file)\n",
        "\n",
        "        # Save audio file\n",
        "        with open(audio_path, \"wb\") as audio_file:\n",
        "            shutil.copyfileobj(audio.file, audio_file)\n",
        "\n",
        "        return JSONResponse(status_code=200, content={\"message\": \"Files uploaded successfully\", \"video\": video.filename, \"audio\": audio.filename})\n",
        "\n",
        "    except Exception as e:\n",
        "        # Log the error and return response\n",
        "        print(f\"Error during file upload: {str(e)}\")\n",
        "        return JSONResponse(status_code=500, content={\"error\": str(e)})\n",
        "\n",
        "@app.post(\"/process\")\n",
        "def process_files(video_filename: str, audio_filename: str):\n",
        "    \"\"\"\n",
        "    Process the uploaded files using Wav2Lip.\n",
        "    \"\"\"\n",
        "    video_path = INPUT_DIR / video_filename\n",
        "    audio_path = INPUT_DIR / audio_filename\n",
        "    output_path = OUTPUT_DIR / \"result_voice.mp4\"\n",
        "\n",
        "    if not video_path.exists() or not audio_path.exists():\n",
        "        return JSONResponse(status_code=400, content={\"error\": \"Input files not found\"})\n",
        "\n",
        "    # Run Wav2Lip inference\n",
        "    command = [\n",
        "    sys.executable, \"inference.py\",\n",
        "    \"--checkpoint_path\", \"checkpoints/wav2lip_gan.pth\",\n",
        "    \"--face\", str(video_path),\n",
        "    \"--audio\", str(audio_path),\n",
        "    ]\n",
        "\n",
        "    try:\n",
        "        result = subprocess.run(\n",
        "        command,\n",
        "        cwd=str(BASE_DIR),\n",
        "        check=True,\n",
        "        capture_output=True,\n",
        "        text=True\n",
        "    )\n",
        "    except subprocess.CalledProcessError as e:\n",
        "        return JSONResponse(status_code=500, content={\"error\": f\"Processing failed: {str(e)}\"})\n",
        "\n",
        "    if output_path.exists():\n",
        "        return {\"message\": \"Processing completed successfully\", \"output\": str(output_path)}\n",
        "    else:\n",
        "        return JSONResponse(status_code=500, content={\"error\": \"Output file not generated\"})\n",
        "\n",
        "\n",
        "@app.get(\"/download\")\n",
        "def download_result():\n",
        "    \"\"\"\n",
        "    Endpoint to download the processed video file.\n",
        "    \"\"\"\n",
        "    output_path = OUTPUT_DIR / \"result_voice.mp4\"\n",
        "    if output_path.exists():\n",
        "        return FileResponse(output_path, media_type=\"video/mp4\", filename=\"result_voice.mp4\")\n",
        "    else:\n",
        "        return JSONResponse(status_code=404, content={\"error\": \"Result file not found\"})\n",
        "\n",
        "\n",
        "@app.delete(\"/cleanup\")\n",
        "def cleanup():\n",
        "    \"\"\"\n",
        "    Delete all input and output files to reset the environment.\n",
        "    \"\"\"\n",
        "    for file in INPUT_DIR.iterdir():\n",
        "        file.unlink()\n",
        "    for file in OUTPUT_DIR.iterdir():\n",
        "        file.unlink()\n",
        "    return {\"message\": \"All input and output files deleted\"}\n",
        "\n",
        "\n",
        "# Start ngrok and run FastAPI\n",
        "if __name__ == \"__main__\":\n",
        "    # Start ngrok tunnel\n",
        "    ngrok_tunnel = ngrok.connect(8000, bind_tls=True)\n",
        "    print(\"Public URL:\", ngrok_tunnel.public_url)\n",
        "\n",
        "    # Prevent asyncio issues with Colab\n",
        "    nest_asyncio.apply()\n",
        "\n",
        "    # Start FastAPI server\n",
        "    uvicorn.run(app, host=\"0.0.0.0\", port=8000)\n"
      ]
    },
    {
      "cell_type": "markdown",
      "metadata": {
        "id": "iaf6wS0aiJvI"
      },
      "source": []
    }
  ],
  "metadata": {
    "accelerator": "GPU",
    "colab": {
      "gpuType": "T4",
      "provenance": [],
      "toc_visible": true
    },
    "kernelspec": {
      "display_name": "Python 3",
      "name": "python3"
    },
    "language_info": {
      "name": "python"
    }
  },
  "nbformat": 4,
  "nbformat_minor": 0
}